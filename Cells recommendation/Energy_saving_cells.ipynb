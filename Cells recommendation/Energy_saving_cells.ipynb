{
  "nbformat": 4,
  "nbformat_minor": 0,
  "metadata": {
    "colab": {
      "provenance": []
    },
    "kernelspec": {
      "name": "python3",
      "display_name": "Python 3"
    },
    "language_info": {
      "name": "python"
    }
  },
  "cells": [
    {
      "cell_type": "code",
      "source": [
        "import pandas as pd\n",
        "import matplotlib.pyplot as plt\n",
        "\n",
        "#load the forecast files\n",
        "df_prb = pd.read_csv(\"/content/drive/MyDrive/forecast_DL_Prb_Utilization_Prophet.csv\")\n",
        "df_ue = pd.read_csv(\"/content/drive/MyDrive/forecast_Avg_UE_Number_Prophet.csv\")\n",
        "\n",
        "#convert timestamp to datetime\n",
        "df_prb[\"Timestamp\"] = pd.to_datetime(df_prb[\"Timestamp\"])\n",
        "df_ue[\"Timestamp\"] = pd.to_datetime(df_ue[\"Timestamp\"])\n",
        "\n",
        "#merge both KPI forecasts on Timestamp and nCI\n",
        "merged = pd.merge(df_prb, df_ue, on=[\"Timestamp\", \"nCI\"], suffixes=(\"_prb\", \"_ue\"))\n",
        "\n",
        "#ask user for ES Mode\n",
        "mode = input(\"Enter ES mode (Conservative / Moderate / Aggressive): \").capitalize()\n",
        "\n",
        "#define thresholds for ES modes\n",
        "thresholds = {\n",
        "    \"Conservative\": {\"DL_Prb_Utilization\": 10, \"Avg_UE_Number\": 10},\n",
        "    \"Moderate\": {\"DL_Prb_Utilization\": 15, \"Avg_UE_Number\": 13},\n",
        "    \"Aggressive\": {\"DL_Prb_Utilization\": 20, \"Avg_UE_Number\": 17}\n",
        "}\n",
        "\n",
        "if mode not in thresholds:\n",
        "    print(\"Invalid mode. Using Moderate.\")\n",
        "    mode = \"Moderate\"\n",
        "\n",
        "#use thresholds\n",
        "prb_thresh = thresholds[mode][\"DL_Prb_Utilization\"]\n",
        "ue_thresh = thresholds[mode][\"Avg_UE_Number\"]\n",
        "\n",
        "#filter data below threshold\n",
        "filtered = merged[\n",
        "    (merged[\"Forecast_prb\"] <= prb_thresh) &\n",
        "    (merged[\"Forecast_ue\"] <= ue_thresh)\n",
        "]\n",
        "print(\"DL_Prb_Utilization Forecast Summary:\")\n",
        "print(merged[\"Forecast_prb\"].describe())\n",
        "\n",
        "print(\"\\nAvg_UE_Number Forecast Summary:\")\n",
        "print(merged[\"Forecast_ue\"].describe())\n",
        "print(f\"Filtered rows count: {len(filtered)}\")\n",
        "\n",
        "#final recommendations per overlapping window\n",
        "window_recommendations = []\n",
        "\n",
        "for cell in filtered[\"nCI\"].unique():\n",
        "    cell_data = filtered[filtered[\"nCI\"] == cell].sort_values(\"Timestamp\").copy()\n",
        "    cell_data[\"Gap\"] = cell_data[\"Timestamp\"].diff().dt.total_seconds().div(60)\n",
        "    cell_data[\"Group\"] = (cell_data[\"Gap\"].fillna(15).round() != 15).cumsum()\n",
        "\n",
        "\n",
        "    for _, group in cell_data.groupby(\"Group\"):\n",
        "        if len(group) >= 2:  #minimum 2 intervals=30 mins\n",
        "            start_time = group[\"Timestamp\"].min()\n",
        "            end_time = group[\"Timestamp\"].max()\n",
        "            duration = (end_time - start_time).seconds // 60 + 15  #inclusive of last interval\n",
        "            if duration >= 30:\n",
        "                window_recommendations.append({\n",
        "                    \"nCI\": cell,\n",
        "                    \"Start_Time\": start_time,\n",
        "                    \"End_Time\": end_time,\n",
        "                    \"Duration_Minutes\": duration,\n",
        "                    \"Recommendation\": \"Shut Down (Low Utilization)\"\n",
        "                })\n",
        "\n",
        "#create DataFrame\n",
        "rec_df = pd.DataFrame(window_recommendations)\n",
        "\n",
        "#save to file with mode in filename\n",
        "rec_df.to_csv(f\"energy_saving_recommendations_{mode.lower()}.csv\", index=False)\n",
        "print(f\"Saved detailed recommendations to energy_saving_recommendations_{mode.lower()}.csv\")"
      ],
      "metadata": {
        "colab": {
          "base_uri": "https://localhost:8080/"
        },
        "id": "sytyefZDHvBk",
        "outputId": "f7d43833-4ba5-45ad-c282-510f83fc9591"
      },
      "execution_count": 15,
      "outputs": [
        {
          "output_type": "stream",
          "name": "stdout",
          "text": [
            "Enter ES mode (Conservative / Moderate / Aggressive): aggressive\n",
            "DL_Prb_Utilization Forecast Summary:\n",
            "count    105984.000000\n",
            "mean         46.376731\n",
            "std          20.536641\n",
            "min          13.891410\n",
            "25%          27.132605\n",
            "50%          47.073500\n",
            "75%          57.124689\n",
            "max          86.802106\n",
            "Name: Forecast_prb, dtype: float64\n",
            "\n",
            "Avg_UE_Number Forecast Summary:\n",
            "count    105984.000000\n",
            "mean         22.091657\n",
            "std          12.049200\n",
            "min           1.941334\n",
            "25%          11.592925\n",
            "50%          23.280939\n",
            "75%          29.810255\n",
            "max          42.943586\n",
            "Name: Forecast_ue, dtype: float64\n",
            "Filtered rows count: 15141\n",
            "Saved detailed recommendations to energy_saving_recommendations_aggressive.csv\n"
          ]
        }
      ]
    }
  ]
}