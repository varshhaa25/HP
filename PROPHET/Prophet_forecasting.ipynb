{
  "nbformat": 4,
  "nbformat_minor": 0,
  "metadata": {
    "colab": {
      "provenance": []
    },
    "kernelspec": {
      "name": "python3",
      "display_name": "Python 3"
    },
    "language_info": {
      "name": "python"
    }
  },
  "cells": [
    {
      "cell_type": "code",
      "source": [
        "!pip install prophet --quiet"
      ],
      "metadata": {
        "id": "f1k1AdywTbeo"
      },
      "execution_count": 1,
      "outputs": []
    },
    {
      "cell_type": "code",
      "source": [
        "import pandas as pd\n",
        "from prophet import Prophet\n",
        "import warnings\n",
        "warnings.filterwarnings(\"ignore\")\n",
        "from sklearn.metrics import r2_score\n",
        "\n",
        "#forecast settings\n",
        "forecast_steps = 17280  #6 months of 15-min intervals\n",
        "cell_col = \"NCI\"\n",
        "timestamp_col = \"Timestamp\"\n",
        "\n",
        "#forecasting for a single KPI across all cells\n",
        "def forecast_with_prophet(df,kpi_col,output_path):\n",
        "    all_forecasts=[]\n",
        "    accuracy_records=[]\n",
        "\n",
        "    for cell in df[cell_col].unique():\n",
        "        print(f\"\\n Forecasting for cell {cell} | KPI: {kpi_col}\")\n",
        "        cell_df=df[df[cell_col] == cell][[timestamp_col, kpi_col]].dropna()\n",
        "\n",
        "        #converting timestamp to datetime\n",
        "        try:\n",
        "            cell_df[timestamp_col] = pd.to_datetime(cell_df[timestamp_col],format=\"%m-%d-%Y %H:%M:%S\",errors='coerce')\n",
        "            cell_df = cell_df.dropna().sort_values(timestamp_col)\n",
        "\n",
        "        except Exception as e:\n",
        "            print(f\"Failed to parse timestamps for cell {cell}: {e}\")\n",
        "            continue\n",
        "\n",
        "        #prophet requires columns:ds(datetime) and y(value)\n",
        "        ts=cell_df.rename(columns={timestamp_col:\"ds\", kpi_col:\"y\"})\n",
        "\n",
        "        #fit prophet model\n",
        "        model=Prophet(daily_seasonality=True,weekly_seasonality=True)\n",
        "        model.fit(ts)\n",
        "        forecast_full = model.predict(ts[[\"ds\"]])\n",
        "        accuracy = r2_score(ts[\"y\"],forecast_full[\"yhat\"]) * 100\n",
        "        print(f\"Accuracy for cell {cell}:{accuracy:.2f}%\")\n",
        "        accuracy_records.append({\n",
        "            \"Cell\": cell,\n",
        "            \"KPI\": kpi_col,\n",
        "            \"Accuracy(%)\": round(accuracy,2)\n",
        "        })\n",
        "\n",
        "        #forecast for next 6 months starting from May 2,2025\n",
        "        future_start = pd.Timestamp(\"2025-05-02 00:00:00\")\n",
        "        future_end = future_start + pd.Timedelta(minutes=15 * forecast_steps)\n",
        "        future = pd.date_range(start=future_start,end=future_end,freq=\"15min\")\n",
        "        future = pd.DataFrame({\"ds\":future})\n",
        "        forecast = model.predict(future)\n",
        "        forecast = forecast[forecast[\"ds\"] > ts[\"ds\"].max()]\n",
        "\n",
        "        #preparing output\n",
        "        forecast[\"nCI\"]=cell\n",
        "        forecast[\"KPI\"]=kpi_col\n",
        "        forecast.rename(columns={\"ds\":\"Timestamp\", \"yhat\":\"Forecast\"},inplace=True)\n",
        "        all_forecasts.append(forecast[[\"Timestamp\",\"Forecast\",\"nCI\",\"KPI\"]])\n",
        "\n",
        "    #combine and save\n",
        "    final_df=pd.concat(all_forecasts,ignore_index=True)\n",
        "    final_df.to_csv(output_path,index=False)\n",
        "    print(f\"\\n Forecasts saved to:{output_path}\")\n",
        "\n",
        "    # Save accuracy\n",
        "    accuracy_df=pd.DataFrame(accuracy_records)\n",
        "    accuracy_output_path = output_path.replace(\".csv\",\"_accuracy.csv\")\n",
        "    accuracy_df.to_csv(accuracy_output_path,index=False)\n",
        "    print(f\"Accuracy report saved to:{accuracy_output_path}\")\n",
        "\n",
        "#loading data\n",
        "df_prb=pd.read_csv(\"/content/drive/MyDrive/DL_Prb_Utilization_Data.csv\")\n",
        "df_ue=pd.read_csv(\"/content/drive/MyDrive/Avg_UE_Number_Data.csv\")\n",
        "\n",
        "#run forecasting for both KPIs\n",
        "forecast_with_prophet(df_prb,\"DL_Prb_Utilization\",\"/content/drive/MyDrive/forecast_DL_Prb_Utilization_Prophet.csv\")\n",
        "forecast_with_prophet(df_ue,\"Avg_UE_Number\",\"/content/drive/MyDrive/forecast_Avg_UE_Number_Prophet.csv\")"
      ],
      "metadata": {
        "colab": {
          "base_uri": "https://localhost:8080/"
        },
        "id": "B-jNYHN5pR77",
        "outputId": "ed8ce054-9260-4930-e9d4-90d8b0470d13"
      },
      "execution_count": 1,
      "outputs": [
        {
          "output_type": "stream",
          "name": "stdout",
          "text": [
            "\n",
            " Forecasting for cell 357783981 | KPI: DL_Prb_Utilization\n"
          ]
        },
        {
          "output_type": "stream",
          "name": "stderr",
          "text": [
            "INFO:prophet:Disabling yearly seasonality. Run prophet with yearly_seasonality=True to override this.\n",
            "DEBUG:cmdstanpy:input tempfile: /tmp/tmpyk_ulngh/hnld6zi3.json\n",
            "DEBUG:cmdstanpy:input tempfile: /tmp/tmpyk_ulngh/9_6tk_pg.json\n",
            "DEBUG:cmdstanpy:idx 0\n",
            "DEBUG:cmdstanpy:running CmdStan, num_threads: None\n",
            "DEBUG:cmdstanpy:CmdStan args: ['/usr/local/lib/python3.11/dist-packages/prophet/stan_model/prophet_model.bin', 'random', 'seed=50271', 'data', 'file=/tmp/tmpyk_ulngh/hnld6zi3.json', 'init=/tmp/tmpyk_ulngh/9_6tk_pg.json', 'output', 'file=/tmp/tmpyk_ulngh/prophet_model8_nz8akg/prophet_model-20250531144245.csv', 'method=optimize', 'algorithm=lbfgs', 'iter=10000']\n",
            "14:42:45 - cmdstanpy - INFO - Chain [1] start processing\n",
            "INFO:cmdstanpy:Chain [1] start processing\n",
            "14:42:50 - cmdstanpy - INFO - Chain [1] done processing\n",
            "INFO:cmdstanpy:Chain [1] done processing\n"
          ]
        },
        {
          "output_type": "stream",
          "name": "stdout",
          "text": [
            "Accuracy for cell 357783981:81.35%\n",
            "\n",
            " Forecasting for cell 357783979 | KPI: DL_Prb_Utilization\n"
          ]
        },
        {
          "output_type": "stream",
          "name": "stderr",
          "text": [
            "INFO:prophet:Disabling yearly seasonality. Run prophet with yearly_seasonality=True to override this.\n",
            "DEBUG:cmdstanpy:input tempfile: /tmp/tmpyk_ulngh/_qf6wsfg.json\n",
            "DEBUG:cmdstanpy:input tempfile: /tmp/tmpyk_ulngh/qys6xbqc.json\n",
            "DEBUG:cmdstanpy:idx 0\n",
            "DEBUG:cmdstanpy:running CmdStan, num_threads: None\n",
            "DEBUG:cmdstanpy:CmdStan args: ['/usr/local/lib/python3.11/dist-packages/prophet/stan_model/prophet_model.bin', 'random', 'seed=2894', 'data', 'file=/tmp/tmpyk_ulngh/_qf6wsfg.json', 'init=/tmp/tmpyk_ulngh/qys6xbqc.json', 'output', 'file=/tmp/tmpyk_ulngh/prophet_modelum9av3m5/prophet_model-20250531144302.csv', 'method=optimize', 'algorithm=lbfgs', 'iter=10000']\n",
            "14:43:02 - cmdstanpy - INFO - Chain [1] start processing\n",
            "INFO:cmdstanpy:Chain [1] start processing\n",
            "14:43:06 - cmdstanpy - INFO - Chain [1] done processing\n",
            "INFO:cmdstanpy:Chain [1] done processing\n"
          ]
        },
        {
          "output_type": "stream",
          "name": "stdout",
          "text": [
            "Accuracy for cell 357783979:81.30%\n"
          ]
        },
        {
          "output_type": "stream",
          "name": "stderr",
          "text": [
            "INFO:prophet:Disabling yearly seasonality. Run prophet with yearly_seasonality=True to override this.\n"
          ]
        },
        {
          "output_type": "stream",
          "name": "stdout",
          "text": [
            "\n",
            " Forecasting for cell 357783980 | KPI: DL_Prb_Utilization\n"
          ]
        },
        {
          "output_type": "stream",
          "name": "stderr",
          "text": [
            "DEBUG:cmdstanpy:input tempfile: /tmp/tmpyk_ulngh/3tqcmaeu.json\n",
            "DEBUG:cmdstanpy:input tempfile: /tmp/tmpyk_ulngh/fiuep2tl.json\n",
            "DEBUG:cmdstanpy:idx 0\n",
            "DEBUG:cmdstanpy:running CmdStan, num_threads: None\n",
            "DEBUG:cmdstanpy:CmdStan args: ['/usr/local/lib/python3.11/dist-packages/prophet/stan_model/prophet_model.bin', 'random', 'seed=76579', 'data', 'file=/tmp/tmpyk_ulngh/3tqcmaeu.json', 'init=/tmp/tmpyk_ulngh/fiuep2tl.json', 'output', 'file=/tmp/tmpyk_ulngh/prophet_modelib6lbi3x/prophet_model-20250531144316.csv', 'method=optimize', 'algorithm=lbfgs', 'iter=10000']\n",
            "14:43:16 - cmdstanpy - INFO - Chain [1] start processing\n",
            "INFO:cmdstanpy:Chain [1] start processing\n",
            "14:43:19 - cmdstanpy - INFO - Chain [1] done processing\n",
            "INFO:cmdstanpy:Chain [1] done processing\n"
          ]
        },
        {
          "output_type": "stream",
          "name": "stdout",
          "text": [
            "Accuracy for cell 357783980:81.51%\n"
          ]
        },
        {
          "output_type": "stream",
          "name": "stderr",
          "text": [
            "INFO:prophet:Disabling yearly seasonality. Run prophet with yearly_seasonality=True to override this.\n"
          ]
        },
        {
          "output_type": "stream",
          "name": "stdout",
          "text": [
            "\n",
            " Forecasting for cell 358531244 | KPI: DL_Prb_Utilization\n"
          ]
        },
        {
          "output_type": "stream",
          "name": "stderr",
          "text": [
            "DEBUG:cmdstanpy:input tempfile: /tmp/tmpyk_ulngh/mbfrboy2.json\n",
            "DEBUG:cmdstanpy:input tempfile: /tmp/tmpyk_ulngh/6iqnnzce.json\n",
            "DEBUG:cmdstanpy:idx 0\n",
            "DEBUG:cmdstanpy:running CmdStan, num_threads: None\n",
            "DEBUG:cmdstanpy:CmdStan args: ['/usr/local/lib/python3.11/dist-packages/prophet/stan_model/prophet_model.bin', 'random', 'seed=72177', 'data', 'file=/tmp/tmpyk_ulngh/mbfrboy2.json', 'init=/tmp/tmpyk_ulngh/6iqnnzce.json', 'output', 'file=/tmp/tmpyk_ulngh/prophet_modela36k5igq/prophet_model-20250531144329.csv', 'method=optimize', 'algorithm=lbfgs', 'iter=10000']\n",
            "14:43:29 - cmdstanpy - INFO - Chain [1] start processing\n",
            "INFO:cmdstanpy:Chain [1] start processing\n",
            "14:43:35 - cmdstanpy - INFO - Chain [1] done processing\n",
            "INFO:cmdstanpy:Chain [1] done processing\n"
          ]
        },
        {
          "output_type": "stream",
          "name": "stdout",
          "text": [
            "Accuracy for cell 358531244:81.17%\n"
          ]
        },
        {
          "output_type": "stream",
          "name": "stderr",
          "text": [
            "INFO:prophet:Disabling yearly seasonality. Run prophet with yearly_seasonality=True to override this.\n"
          ]
        },
        {
          "output_type": "stream",
          "name": "stdout",
          "text": [
            "\n",
            " Forecasting for cell 358531245 | KPI: DL_Prb_Utilization\n"
          ]
        },
        {
          "output_type": "stream",
          "name": "stderr",
          "text": [
            "DEBUG:cmdstanpy:input tempfile: /tmp/tmpyk_ulngh/ptg6zxeg.json\n",
            "DEBUG:cmdstanpy:input tempfile: /tmp/tmpyk_ulngh/zyil63d2.json\n",
            "DEBUG:cmdstanpy:idx 0\n",
            "DEBUG:cmdstanpy:running CmdStan, num_threads: None\n",
            "DEBUG:cmdstanpy:CmdStan args: ['/usr/local/lib/python3.11/dist-packages/prophet/stan_model/prophet_model.bin', 'random', 'seed=63925', 'data', 'file=/tmp/tmpyk_ulngh/ptg6zxeg.json', 'init=/tmp/tmpyk_ulngh/zyil63d2.json', 'output', 'file=/tmp/tmpyk_ulngh/prophet_modelxxujg04x/prophet_model-20250531144344.csv', 'method=optimize', 'algorithm=lbfgs', 'iter=10000']\n",
            "14:43:44 - cmdstanpy - INFO - Chain [1] start processing\n",
            "INFO:cmdstanpy:Chain [1] start processing\n",
            "14:43:49 - cmdstanpy - INFO - Chain [1] done processing\n",
            "INFO:cmdstanpy:Chain [1] done processing\n"
          ]
        },
        {
          "output_type": "stream",
          "name": "stdout",
          "text": [
            "Accuracy for cell 358531245:81.40%\n"
          ]
        },
        {
          "output_type": "stream",
          "name": "stderr",
          "text": [
            "INFO:prophet:Disabling yearly seasonality. Run prophet with yearly_seasonality=True to override this.\n"
          ]
        },
        {
          "output_type": "stream",
          "name": "stdout",
          "text": [
            "\n",
            " Forecasting for cell 358531243 | KPI: DL_Prb_Utilization\n"
          ]
        },
        {
          "output_type": "stream",
          "name": "stderr",
          "text": [
            "DEBUG:cmdstanpy:input tempfile: /tmp/tmpyk_ulngh/qawi9guj.json\n",
            "DEBUG:cmdstanpy:input tempfile: /tmp/tmpyk_ulngh/m9hwhzbg.json\n",
            "DEBUG:cmdstanpy:idx 0\n",
            "DEBUG:cmdstanpy:running CmdStan, num_threads: None\n",
            "DEBUG:cmdstanpy:CmdStan args: ['/usr/local/lib/python3.11/dist-packages/prophet/stan_model/prophet_model.bin', 'random', 'seed=46994', 'data', 'file=/tmp/tmpyk_ulngh/qawi9guj.json', 'init=/tmp/tmpyk_ulngh/m9hwhzbg.json', 'output', 'file=/tmp/tmpyk_ulngh/prophet_modelf7xos37j/prophet_model-20250531144359.csv', 'method=optimize', 'algorithm=lbfgs', 'iter=10000']\n",
            "14:43:59 - cmdstanpy - INFO - Chain [1] start processing\n",
            "INFO:cmdstanpy:Chain [1] start processing\n",
            "14:44:06 - cmdstanpy - INFO - Chain [1] done processing\n",
            "INFO:cmdstanpy:Chain [1] done processing\n"
          ]
        },
        {
          "output_type": "stream",
          "name": "stdout",
          "text": [
            "Accuracy for cell 358531243:81.32%\n"
          ]
        },
        {
          "output_type": "stream",
          "name": "stderr",
          "text": [
            "INFO:prophet:Disabling yearly seasonality. Run prophet with yearly_seasonality=True to override this.\n"
          ]
        },
        {
          "output_type": "stream",
          "name": "stdout",
          "text": [
            "\n",
            " Forecasts saved to:/content/drive/MyDrive/forecast_DL_Prb_Utilization_Prophet.csv\n",
            "Accuracy report saved to:/content/drive/MyDrive/forecast_DL_Prb_Utilization_Prophet_accuracy.csv\n",
            "\n",
            " Forecasting for cell 357783981 | KPI: Avg_UE_Number\n"
          ]
        },
        {
          "output_type": "stream",
          "name": "stderr",
          "text": [
            "DEBUG:cmdstanpy:input tempfile: /tmp/tmpyk_ulngh/3fnfou33.json\n",
            "DEBUG:cmdstanpy:input tempfile: /tmp/tmpyk_ulngh/jx4uegz1.json\n",
            "DEBUG:cmdstanpy:idx 0\n",
            "DEBUG:cmdstanpy:running CmdStan, num_threads: None\n",
            "DEBUG:cmdstanpy:CmdStan args: ['/usr/local/lib/python3.11/dist-packages/prophet/stan_model/prophet_model.bin', 'random', 'seed=8935', 'data', 'file=/tmp/tmpyk_ulngh/3fnfou33.json', 'init=/tmp/tmpyk_ulngh/jx4uegz1.json', 'output', 'file=/tmp/tmpyk_ulngh/prophet_modelau373ged/prophet_model-20250531144415.csv', 'method=optimize', 'algorithm=lbfgs', 'iter=10000']\n",
            "14:44:15 - cmdstanpy - INFO - Chain [1] start processing\n",
            "INFO:cmdstanpy:Chain [1] start processing\n",
            "14:44:21 - cmdstanpy - INFO - Chain [1] done processing\n",
            "INFO:cmdstanpy:Chain [1] done processing\n"
          ]
        },
        {
          "output_type": "stream",
          "name": "stdout",
          "text": [
            "Accuracy for cell 357783981:74.26%\n"
          ]
        },
        {
          "output_type": "stream",
          "name": "stderr",
          "text": [
            "INFO:prophet:Disabling yearly seasonality. Run prophet with yearly_seasonality=True to override this.\n"
          ]
        },
        {
          "output_type": "stream",
          "name": "stdout",
          "text": [
            "\n",
            " Forecasting for cell 357783979 | KPI: Avg_UE_Number\n"
          ]
        },
        {
          "output_type": "stream",
          "name": "stderr",
          "text": [
            "DEBUG:cmdstanpy:input tempfile: /tmp/tmpyk_ulngh/80o9367u.json\n",
            "DEBUG:cmdstanpy:input tempfile: /tmp/tmpyk_ulngh/3gyb9jwb.json\n",
            "DEBUG:cmdstanpy:idx 0\n",
            "DEBUG:cmdstanpy:running CmdStan, num_threads: None\n",
            "DEBUG:cmdstanpy:CmdStan args: ['/usr/local/lib/python3.11/dist-packages/prophet/stan_model/prophet_model.bin', 'random', 'seed=38213', 'data', 'file=/tmp/tmpyk_ulngh/80o9367u.json', 'init=/tmp/tmpyk_ulngh/3gyb9jwb.json', 'output', 'file=/tmp/tmpyk_ulngh/prophet_modeldk4jvj0t/prophet_model-20250531144430.csv', 'method=optimize', 'algorithm=lbfgs', 'iter=10000']\n",
            "14:44:30 - cmdstanpy - INFO - Chain [1] start processing\n",
            "INFO:cmdstanpy:Chain [1] start processing\n",
            "14:44:35 - cmdstanpy - INFO - Chain [1] done processing\n",
            "INFO:cmdstanpy:Chain [1] done processing\n"
          ]
        },
        {
          "output_type": "stream",
          "name": "stdout",
          "text": [
            "Accuracy for cell 357783979:74.25%\n",
            "\n",
            " Forecasting for cell 357783980 | KPI: Avg_UE_Number\n"
          ]
        },
        {
          "output_type": "stream",
          "name": "stderr",
          "text": [
            "INFO:prophet:Disabling yearly seasonality. Run prophet with yearly_seasonality=True to override this.\n",
            "DEBUG:cmdstanpy:input tempfile: /tmp/tmpyk_ulngh/ul1ly4ci.json\n",
            "DEBUG:cmdstanpy:input tempfile: /tmp/tmpyk_ulngh/wfe63u78.json\n",
            "DEBUG:cmdstanpy:idx 0\n",
            "DEBUG:cmdstanpy:running CmdStan, num_threads: None\n",
            "DEBUG:cmdstanpy:CmdStan args: ['/usr/local/lib/python3.11/dist-packages/prophet/stan_model/prophet_model.bin', 'random', 'seed=7752', 'data', 'file=/tmp/tmpyk_ulngh/ul1ly4ci.json', 'init=/tmp/tmpyk_ulngh/wfe63u78.json', 'output', 'file=/tmp/tmpyk_ulngh/prophet_modelmoujlrca/prophet_model-20250531144444.csv', 'method=optimize', 'algorithm=lbfgs', 'iter=10000']\n",
            "14:44:44 - cmdstanpy - INFO - Chain [1] start processing\n",
            "INFO:cmdstanpy:Chain [1] start processing\n",
            "14:44:50 - cmdstanpy - INFO - Chain [1] done processing\n",
            "INFO:cmdstanpy:Chain [1] done processing\n"
          ]
        },
        {
          "output_type": "stream",
          "name": "stdout",
          "text": [
            "Accuracy for cell 357783980:74.62%\n",
            "\n",
            " Forecasting for cell 358531244 | KPI: Avg_UE_Number\n"
          ]
        },
        {
          "output_type": "stream",
          "name": "stderr",
          "text": [
            "INFO:prophet:Disabling yearly seasonality. Run prophet with yearly_seasonality=True to override this.\n",
            "DEBUG:cmdstanpy:input tempfile: /tmp/tmpyk_ulngh/pb3r65p3.json\n",
            "DEBUG:cmdstanpy:input tempfile: /tmp/tmpyk_ulngh/0rrh1dtl.json\n",
            "DEBUG:cmdstanpy:idx 0\n",
            "DEBUG:cmdstanpy:running CmdStan, num_threads: None\n",
            "DEBUG:cmdstanpy:CmdStan args: ['/usr/local/lib/python3.11/dist-packages/prophet/stan_model/prophet_model.bin', 'random', 'seed=5305', 'data', 'file=/tmp/tmpyk_ulngh/pb3r65p3.json', 'init=/tmp/tmpyk_ulngh/0rrh1dtl.json', 'output', 'file=/tmp/tmpyk_ulngh/prophet_modelx9u1qgog/prophet_model-20250531144500.csv', 'method=optimize', 'algorithm=lbfgs', 'iter=10000']\n",
            "14:45:00 - cmdstanpy - INFO - Chain [1] start processing\n",
            "INFO:cmdstanpy:Chain [1] start processing\n",
            "14:45:04 - cmdstanpy - INFO - Chain [1] done processing\n",
            "INFO:cmdstanpy:Chain [1] done processing\n"
          ]
        },
        {
          "output_type": "stream",
          "name": "stdout",
          "text": [
            "Accuracy for cell 358531244:74.15%\n",
            "\n",
            " Forecasting for cell 358531245 | KPI: Avg_UE_Number\n"
          ]
        },
        {
          "output_type": "stream",
          "name": "stderr",
          "text": [
            "INFO:prophet:Disabling yearly seasonality. Run prophet with yearly_seasonality=True to override this.\n",
            "DEBUG:cmdstanpy:input tempfile: /tmp/tmpyk_ulngh/cpxdlip9.json\n",
            "DEBUG:cmdstanpy:input tempfile: /tmp/tmpyk_ulngh/nmk8ue_x.json\n",
            "DEBUG:cmdstanpy:idx 0\n",
            "DEBUG:cmdstanpy:running CmdStan, num_threads: None\n",
            "DEBUG:cmdstanpy:CmdStan args: ['/usr/local/lib/python3.11/dist-packages/prophet/stan_model/prophet_model.bin', 'random', 'seed=86505', 'data', 'file=/tmp/tmpyk_ulngh/cpxdlip9.json', 'init=/tmp/tmpyk_ulngh/nmk8ue_x.json', 'output', 'file=/tmp/tmpyk_ulngh/prophet_model63h5qt4f/prophet_model-20250531144514.csv', 'method=optimize', 'algorithm=lbfgs', 'iter=10000']\n",
            "14:45:14 - cmdstanpy - INFO - Chain [1] start processing\n",
            "INFO:cmdstanpy:Chain [1] start processing\n",
            "14:45:21 - cmdstanpy - INFO - Chain [1] done processing\n",
            "INFO:cmdstanpy:Chain [1] done processing\n"
          ]
        },
        {
          "output_type": "stream",
          "name": "stdout",
          "text": [
            "Accuracy for cell 358531245:74.40%\n",
            "\n",
            " Forecasting for cell 358531243 | KPI: Avg_UE_Number\n"
          ]
        },
        {
          "output_type": "stream",
          "name": "stderr",
          "text": [
            "INFO:prophet:Disabling yearly seasonality. Run prophet with yearly_seasonality=True to override this.\n",
            "DEBUG:cmdstanpy:input tempfile: /tmp/tmpyk_ulngh/4v9ndtl3.json\n",
            "DEBUG:cmdstanpy:input tempfile: /tmp/tmpyk_ulngh/b6pofig9.json\n",
            "DEBUG:cmdstanpy:idx 0\n",
            "DEBUG:cmdstanpy:running CmdStan, num_threads: None\n",
            "DEBUG:cmdstanpy:CmdStan args: ['/usr/local/lib/python3.11/dist-packages/prophet/stan_model/prophet_model.bin', 'random', 'seed=3071', 'data', 'file=/tmp/tmpyk_ulngh/4v9ndtl3.json', 'init=/tmp/tmpyk_ulngh/b6pofig9.json', 'output', 'file=/tmp/tmpyk_ulngh/prophet_modellu5pzfve/prophet_model-20250531144530.csv', 'method=optimize', 'algorithm=lbfgs', 'iter=10000']\n",
            "14:45:30 - cmdstanpy - INFO - Chain [1] start processing\n",
            "INFO:cmdstanpy:Chain [1] start processing\n",
            "14:45:35 - cmdstanpy - INFO - Chain [1] done processing\n",
            "INFO:cmdstanpy:Chain [1] done processing\n"
          ]
        },
        {
          "output_type": "stream",
          "name": "stdout",
          "text": [
            "Accuracy for cell 358531243:73.91%\n",
            "\n",
            " Forecasts saved to:/content/drive/MyDrive/forecast_Avg_UE_Number_Prophet.csv\n",
            "Accuracy report saved to:/content/drive/MyDrive/forecast_Avg_UE_Number_Prophet_accuracy.csv\n"
          ]
        }
      ]
    }
  ]
}