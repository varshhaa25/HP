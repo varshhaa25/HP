{
  "nbformat": 4,
  "nbformat_minor": 0,
  "metadata": {
    "colab": {
      "provenance": []
    },
    "kernelspec": {
      "name": "python3",
      "display_name": "Python 3"
    },
    "language_info": {
      "name": "python"
    }
  },
  "cells": [
    {
      "cell_type": "code",
      "source": [
        "!pip install prophet --quiet"
      ],
      "metadata": {
        "id": "f1k1AdywTbeo"
      },
      "execution_count": null,
      "outputs": []
    },
    {
      "cell_type": "code",
      "source": [
        "#prophet with train and test data\n",
        "import pandas as pd\n",
        "from prophet import Prophet\n",
        "import warnings\n",
        "warnings.filterwarnings(\"ignore\")\n",
        "from sklearn.metrics import r2_score\n",
        "\n",
        "#forecast settings\n",
        "forecast_steps = 17280  #6 months of 15-min intervals\n",
        "cell_col = \"NCI\"\n",
        "timestamp_col = \"Timestamp\"\n",
        "test_ratio = 0.2  #20% for testing\n",
        "\n",
        "def forecast_with_prophet(df, kpi_col, output_path):\n",
        "    all_forecasts = []\n",
        "    accuracy_records = []\n",
        "\n",
        "    for cell in df[cell_col].unique():\n",
        "        print(f\"\\nForecasting for cell {cell} | KPI: {kpi_col}\")\n",
        "        cell_df = df[df[cell_col] == cell][[timestamp_col, kpi_col]].dropna()\n",
        "\n",
        "        try:\n",
        "            cell_df[timestamp_col] = pd.to_datetime(cell_df[timestamp_col], format=\"%m-%d-%Y %H:%M:%S\", errors='coerce')\n",
        "            cell_df = cell_df.dropna().sort_values(timestamp_col)\n",
        "        except Exception as e:\n",
        "            print(f\"Failed to parse timestamps for cell {cell}: {e}\")\n",
        "            continue\n",
        "\n",
        "        ts = cell_df.rename(columns={timestamp_col: \"ds\", kpi_col: \"y\"})\n",
        "\n",
        "        #split into train and test sets\n",
        "        split_idx = int(len(ts) * (1 - test_ratio))\n",
        "        train_df = ts.iloc[:split_idx]\n",
        "        test_df = ts.iloc[split_idx:]\n",
        "\n",
        "        #fit model on training set\n",
        "        model = Prophet(daily_seasonality=True, weekly_seasonality=True)\n",
        "        model.fit(train_df)\n",
        "\n",
        "        #predict on test set to evaluate accuracy\n",
        "        forecast_test = model.predict(test_df[[\"ds\"]])\n",
        "        accuracy = r2_score(test_df[\"y\"], forecast_test[\"yhat\"]) * 100\n",
        "        print(f\"Test Accuracy for cell {cell}: {accuracy:.2f}%\")\n",
        "\n",
        "        accuracy_records.append({\n",
        "            \"Cell\": cell,\n",
        "            \"KPI\": kpi_col,\n",
        "            \"Accuracy(%)\": round(accuracy, 2)\n",
        "        })\n",
        "\n",
        "        #forecast into the future\n",
        "        future_start = pd.Timestamp(\"2025-05-02 00:00:00\")\n",
        "        future_end = future_start + pd.Timedelta(minutes=15 * forecast_steps)\n",
        "        future = pd.date_range(start=future_start, end=future_end, freq=\"15min\")\n",
        "        future_df = pd.DataFrame({\"ds\": future})\n",
        "\n",
        "        forecast_future = model.predict(future_df)\n",
        "        forecast_future = forecast_future[forecast_future[\"ds\"] > ts[\"ds\"].max()]\n",
        "\n",
        "        forecast_future[\"nCI\"] = cell\n",
        "        forecast_future[\"KPI\"] = kpi_col\n",
        "        forecast_future.rename(columns={\"ds\": \"Timestamp\", \"yhat\": \"Forecast\"}, inplace=True)\n",
        "        all_forecasts.append(forecast_future[[\"Timestamp\", \"Forecast\", \"nCI\", \"KPI\"]])\n",
        "\n",
        "    #combine forecasts and save\n",
        "    final_df = pd.concat(all_forecasts, ignore_index=True)\n",
        "    final_df.to_csv(output_path, index=False)\n",
        "    print(f\"\\nForecasts saved to: {output_path}\")\n",
        "\n",
        "    accuracy_df = pd.DataFrame(accuracy_records)\n",
        "    accuracy_output_path = output_path.replace(\".csv\", \"_accuracy.csv\")\n",
        "    accuracy_df.to_csv(accuracy_output_path, index=False)\n",
        "    print(f\"Accuracy report saved to: {accuracy_output_path}\")\n",
        "\n",
        "#load data\n",
        "df_prb = pd.read_csv(\"/content/drive/MyDrive/DL_Prb_Utilization_Data.csv\")\n",
        "df_ue = pd.read_csv(\"/content/drive/MyDrive/Avg_UE_Number_Data.csv\")\n",
        "\n",
        "#run forecasting\n",
        "forecast_with_prophet(df_prb, \"DL_Prb_Utilization\", \"/content/drive/MyDrive/forecast_DL_Prb_Utilization_Prophet.csv\")\n",
        "forecast_with_prophet(df_ue, \"Avg_UE_Number\", \"/content/drive/MyDrive/forecast_Avg_UE_Number_Prophet.csv\")"
      ],
      "metadata": {
        "colab": {
          "base_uri": "https://localhost:8080/"
        },
        "id": "5RTtwzkAuYhv",
        "outputId": "e69f9571-e348-421f-c0ee-1ade6ef972b6"
      },
      "execution_count": 7,
      "outputs": [
        {
          "output_type": "stream",
          "name": "stdout",
          "text": [
            "\n",
            "Forecasting for cell 357783981 | KPI: DL_Prb_Utilization\n"
          ]
        },
        {
          "output_type": "stream",
          "name": "stderr",
          "text": [
            "INFO:prophet:Disabling yearly seasonality. Run prophet with yearly_seasonality=True to override this.\n",
            "DEBUG:cmdstanpy:input tempfile: /tmp/tmp0tfn0ytv/cidskt6z.json\n",
            "DEBUG:cmdstanpy:input tempfile: /tmp/tmp0tfn0ytv/gij0x5ow.json\n",
            "DEBUG:cmdstanpy:idx 0\n",
            "DEBUG:cmdstanpy:running CmdStan, num_threads: None\n",
            "DEBUG:cmdstanpy:CmdStan args: ['/usr/local/lib/python3.11/dist-packages/prophet/stan_model/prophet_model.bin', 'random', 'seed=71093', 'data', 'file=/tmp/tmp0tfn0ytv/cidskt6z.json', 'init=/tmp/tmp0tfn0ytv/gij0x5ow.json', 'output', 'file=/tmp/tmp0tfn0ytv/prophet_modelcdnkd7dh/prophet_model-20250620181500.csv', 'method=optimize', 'algorithm=lbfgs', 'iter=10000']\n",
            "18:15:00 - cmdstanpy - INFO - Chain [1] start processing\n",
            "INFO:cmdstanpy:Chain [1] start processing\n",
            "18:15:03 - cmdstanpy - INFO - Chain [1] done processing\n",
            "INFO:cmdstanpy:Chain [1] done processing\n"
          ]
        },
        {
          "output_type": "stream",
          "name": "stdout",
          "text": [
            "Test Accuracy for cell 357783981: 79.65%\n",
            "\n",
            "Forecasting for cell 357783979 | KPI: DL_Prb_Utilization\n"
          ]
        },
        {
          "output_type": "stream",
          "name": "stderr",
          "text": [
            "INFO:prophet:Disabling yearly seasonality. Run prophet with yearly_seasonality=True to override this.\n",
            "DEBUG:cmdstanpy:input tempfile: /tmp/tmp0tfn0ytv/yw1rqm2b.json\n",
            "DEBUG:cmdstanpy:input tempfile: /tmp/tmp0tfn0ytv/gn947vlb.json\n",
            "DEBUG:cmdstanpy:idx 0\n",
            "DEBUG:cmdstanpy:running CmdStan, num_threads: None\n",
            "DEBUG:cmdstanpy:CmdStan args: ['/usr/local/lib/python3.11/dist-packages/prophet/stan_model/prophet_model.bin', 'random', 'seed=76929', 'data', 'file=/tmp/tmp0tfn0ytv/yw1rqm2b.json', 'init=/tmp/tmp0tfn0ytv/gn947vlb.json', 'output', 'file=/tmp/tmp0tfn0ytv/prophet_modelsnyz4jvg/prophet_model-20250620181511.csv', 'method=optimize', 'algorithm=lbfgs', 'iter=10000']\n",
            "18:15:11 - cmdstanpy - INFO - Chain [1] start processing\n",
            "INFO:cmdstanpy:Chain [1] start processing\n",
            "18:15:17 - cmdstanpy - INFO - Chain [1] done processing\n",
            "INFO:cmdstanpy:Chain [1] done processing\n"
          ]
        },
        {
          "output_type": "stream",
          "name": "stdout",
          "text": [
            "Test Accuracy for cell 357783979: 79.10%\n"
          ]
        },
        {
          "output_type": "stream",
          "name": "stderr",
          "text": [
            "INFO:prophet:Disabling yearly seasonality. Run prophet with yearly_seasonality=True to override this.\n"
          ]
        },
        {
          "output_type": "stream",
          "name": "stdout",
          "text": [
            "\n",
            "Forecasting for cell 357783980 | KPI: DL_Prb_Utilization\n"
          ]
        },
        {
          "output_type": "stream",
          "name": "stderr",
          "text": [
            "DEBUG:cmdstanpy:input tempfile: /tmp/tmp0tfn0ytv/9i_pkjuz.json\n",
            "DEBUG:cmdstanpy:input tempfile: /tmp/tmp0tfn0ytv/n175x2so.json\n",
            "DEBUG:cmdstanpy:idx 0\n",
            "DEBUG:cmdstanpy:running CmdStan, num_threads: None\n",
            "DEBUG:cmdstanpy:CmdStan args: ['/usr/local/lib/python3.11/dist-packages/prophet/stan_model/prophet_model.bin', 'random', 'seed=65333', 'data', 'file=/tmp/tmp0tfn0ytv/9i_pkjuz.json', 'init=/tmp/tmp0tfn0ytv/n175x2so.json', 'output', 'file=/tmp/tmp0tfn0ytv/prophet_modeltp_9mkdz/prophet_model-20250620181524.csv', 'method=optimize', 'algorithm=lbfgs', 'iter=10000']\n",
            "18:15:24 - cmdstanpy - INFO - Chain [1] start processing\n",
            "INFO:cmdstanpy:Chain [1] start processing\n",
            "18:15:27 - cmdstanpy - INFO - Chain [1] done processing\n",
            "INFO:cmdstanpy:Chain [1] done processing\n"
          ]
        },
        {
          "output_type": "stream",
          "name": "stdout",
          "text": [
            "Test Accuracy for cell 357783980: 79.90%\n"
          ]
        },
        {
          "output_type": "stream",
          "name": "stderr",
          "text": [
            "INFO:prophet:Disabling yearly seasonality. Run prophet with yearly_seasonality=True to override this.\n"
          ]
        },
        {
          "output_type": "stream",
          "name": "stdout",
          "text": [
            "\n",
            "Forecasting for cell 358531244 | KPI: DL_Prb_Utilization\n"
          ]
        },
        {
          "output_type": "stream",
          "name": "stderr",
          "text": [
            "DEBUG:cmdstanpy:input tempfile: /tmp/tmp0tfn0ytv/x0kguv1k.json\n",
            "DEBUG:cmdstanpy:input tempfile: /tmp/tmp0tfn0ytv/0ptpp886.json\n",
            "DEBUG:cmdstanpy:idx 0\n",
            "DEBUG:cmdstanpy:running CmdStan, num_threads: None\n",
            "DEBUG:cmdstanpy:CmdStan args: ['/usr/local/lib/python3.11/dist-packages/prophet/stan_model/prophet_model.bin', 'random', 'seed=16792', 'data', 'file=/tmp/tmp0tfn0ytv/x0kguv1k.json', 'init=/tmp/tmp0tfn0ytv/0ptpp886.json', 'output', 'file=/tmp/tmp0tfn0ytv/prophet_modelfxn1ss05/prophet_model-20250620181534.csv', 'method=optimize', 'algorithm=lbfgs', 'iter=10000']\n",
            "18:15:34 - cmdstanpy - INFO - Chain [1] start processing\n",
            "INFO:cmdstanpy:Chain [1] start processing\n",
            "18:15:38 - cmdstanpy - INFO - Chain [1] done processing\n",
            "INFO:cmdstanpy:Chain [1] done processing\n"
          ]
        },
        {
          "output_type": "stream",
          "name": "stdout",
          "text": [
            "Test Accuracy for cell 358531244: 79.52%\n"
          ]
        },
        {
          "output_type": "stream",
          "name": "stderr",
          "text": [
            "INFO:prophet:Disabling yearly seasonality. Run prophet with yearly_seasonality=True to override this.\n",
            "DEBUG:cmdstanpy:input tempfile: /tmp/tmp0tfn0ytv/l3z845h4.json\n"
          ]
        },
        {
          "output_type": "stream",
          "name": "stdout",
          "text": [
            "\n",
            "Forecasting for cell 358531245 | KPI: DL_Prb_Utilization\n"
          ]
        },
        {
          "output_type": "stream",
          "name": "stderr",
          "text": [
            "DEBUG:cmdstanpy:input tempfile: /tmp/tmp0tfn0ytv/s6g_2bfx.json\n",
            "DEBUG:cmdstanpy:idx 0\n",
            "DEBUG:cmdstanpy:running CmdStan, num_threads: None\n",
            "DEBUG:cmdstanpy:CmdStan args: ['/usr/local/lib/python3.11/dist-packages/prophet/stan_model/prophet_model.bin', 'random', 'seed=97776', 'data', 'file=/tmp/tmp0tfn0ytv/l3z845h4.json', 'init=/tmp/tmp0tfn0ytv/s6g_2bfx.json', 'output', 'file=/tmp/tmp0tfn0ytv/prophet_modelht60u6ta/prophet_model-20250620181546.csv', 'method=optimize', 'algorithm=lbfgs', 'iter=10000']\n",
            "18:15:46 - cmdstanpy - INFO - Chain [1] start processing\n",
            "INFO:cmdstanpy:Chain [1] start processing\n",
            "18:15:51 - cmdstanpy - INFO - Chain [1] done processing\n",
            "INFO:cmdstanpy:Chain [1] done processing\n"
          ]
        },
        {
          "output_type": "stream",
          "name": "stdout",
          "text": [
            "Test Accuracy for cell 358531245: 79.57%\n"
          ]
        },
        {
          "output_type": "stream",
          "name": "stderr",
          "text": [
            "INFO:prophet:Disabling yearly seasonality. Run prophet with yearly_seasonality=True to override this.\n"
          ]
        },
        {
          "output_type": "stream",
          "name": "stdout",
          "text": [
            "\n",
            "Forecasting for cell 358531243 | KPI: DL_Prb_Utilization\n"
          ]
        },
        {
          "output_type": "stream",
          "name": "stderr",
          "text": [
            "DEBUG:cmdstanpy:input tempfile: /tmp/tmp0tfn0ytv/4hlcqd42.json\n",
            "DEBUG:cmdstanpy:input tempfile: /tmp/tmp0tfn0ytv/3qbkh4bu.json\n",
            "DEBUG:cmdstanpy:idx 0\n",
            "DEBUG:cmdstanpy:running CmdStan, num_threads: None\n",
            "DEBUG:cmdstanpy:CmdStan args: ['/usr/local/lib/python3.11/dist-packages/prophet/stan_model/prophet_model.bin', 'random', 'seed=245', 'data', 'file=/tmp/tmp0tfn0ytv/4hlcqd42.json', 'init=/tmp/tmp0tfn0ytv/3qbkh4bu.json', 'output', 'file=/tmp/tmp0tfn0ytv/prophet_modelcs_yuwq2/prophet_model-20250620181558.csv', 'method=optimize', 'algorithm=lbfgs', 'iter=10000']\n",
            "18:15:58 - cmdstanpy - INFO - Chain [1] start processing\n",
            "INFO:cmdstanpy:Chain [1] start processing\n",
            "18:16:02 - cmdstanpy - INFO - Chain [1] done processing\n",
            "INFO:cmdstanpy:Chain [1] done processing\n"
          ]
        },
        {
          "output_type": "stream",
          "name": "stdout",
          "text": [
            "Test Accuracy for cell 358531243: 79.67%\n",
            "\n",
            "Forecasts saved to: /content/drive/MyDrive/forecast_DL_Prb_Utilization_Prophet.csv\n",
            "Accuracy report saved to: /content/drive/MyDrive/forecast_DL_Prb_Utilization_Prophet_accuracy.csv\n",
            "\n",
            "Forecasting for cell 357783981 | KPI: Avg_UE_Number\n"
          ]
        },
        {
          "output_type": "stream",
          "name": "stderr",
          "text": [
            "INFO:prophet:Disabling yearly seasonality. Run prophet with yearly_seasonality=True to override this.\n",
            "DEBUG:cmdstanpy:input tempfile: /tmp/tmp0tfn0ytv/me16p4dt.json\n",
            "DEBUG:cmdstanpy:input tempfile: /tmp/tmp0tfn0ytv/xg4s85r_.json\n",
            "DEBUG:cmdstanpy:idx 0\n",
            "DEBUG:cmdstanpy:running CmdStan, num_threads: None\n",
            "DEBUG:cmdstanpy:CmdStan args: ['/usr/local/lib/python3.11/dist-packages/prophet/stan_model/prophet_model.bin', 'random', 'seed=3494', 'data', 'file=/tmp/tmp0tfn0ytv/me16p4dt.json', 'init=/tmp/tmp0tfn0ytv/xg4s85r_.json', 'output', 'file=/tmp/tmp0tfn0ytv/prophet_modelu6pzj9ui/prophet_model-20250620181611.csv', 'method=optimize', 'algorithm=lbfgs', 'iter=10000']\n",
            "18:16:11 - cmdstanpy - INFO - Chain [1] start processing\n",
            "INFO:cmdstanpy:Chain [1] start processing\n",
            "18:16:15 - cmdstanpy - INFO - Chain [1] done processing\n",
            "INFO:cmdstanpy:Chain [1] done processing\n"
          ]
        },
        {
          "output_type": "stream",
          "name": "stdout",
          "text": [
            "Test Accuracy for cell 357783981: 71.14%\n",
            "\n",
            "Forecasting for cell 357783979 | KPI: Avg_UE_Number\n"
          ]
        },
        {
          "output_type": "stream",
          "name": "stderr",
          "text": [
            "INFO:prophet:Disabling yearly seasonality. Run prophet with yearly_seasonality=True to override this.\n",
            "DEBUG:cmdstanpy:input tempfile: /tmp/tmp0tfn0ytv/6swgcjnl.json\n",
            "DEBUG:cmdstanpy:input tempfile: /tmp/tmp0tfn0ytv/c_o7tdfg.json\n",
            "DEBUG:cmdstanpy:idx 0\n",
            "DEBUG:cmdstanpy:running CmdStan, num_threads: None\n",
            "DEBUG:cmdstanpy:CmdStan args: ['/usr/local/lib/python3.11/dist-packages/prophet/stan_model/prophet_model.bin', 'random', 'seed=9014', 'data', 'file=/tmp/tmp0tfn0ytv/6swgcjnl.json', 'init=/tmp/tmp0tfn0ytv/c_o7tdfg.json', 'output', 'file=/tmp/tmp0tfn0ytv/prophet_modelrw28egdm/prophet_model-20250620181623.csv', 'method=optimize', 'algorithm=lbfgs', 'iter=10000']\n",
            "18:16:23 - cmdstanpy - INFO - Chain [1] start processing\n",
            "INFO:cmdstanpy:Chain [1] start processing\n",
            "18:16:28 - cmdstanpy - INFO - Chain [1] done processing\n",
            "INFO:cmdstanpy:Chain [1] done processing\n"
          ]
        },
        {
          "output_type": "stream",
          "name": "stdout",
          "text": [
            "Test Accuracy for cell 357783979: 70.92%\n"
          ]
        },
        {
          "output_type": "stream",
          "name": "stderr",
          "text": [
            "INFO:prophet:Disabling yearly seasonality. Run prophet with yearly_seasonality=True to override this.\n"
          ]
        },
        {
          "output_type": "stream",
          "name": "stdout",
          "text": [
            "\n",
            "Forecasting for cell 357783980 | KPI: Avg_UE_Number\n"
          ]
        },
        {
          "output_type": "stream",
          "name": "stderr",
          "text": [
            "DEBUG:cmdstanpy:input tempfile: /tmp/tmp0tfn0ytv/o_a04b3u.json\n",
            "DEBUG:cmdstanpy:input tempfile: /tmp/tmp0tfn0ytv/6fe4mdt3.json\n",
            "DEBUG:cmdstanpy:idx 0\n",
            "DEBUG:cmdstanpy:running CmdStan, num_threads: None\n",
            "DEBUG:cmdstanpy:CmdStan args: ['/usr/local/lib/python3.11/dist-packages/prophet/stan_model/prophet_model.bin', 'random', 'seed=76644', 'data', 'file=/tmp/tmp0tfn0ytv/o_a04b3u.json', 'init=/tmp/tmp0tfn0ytv/6fe4mdt3.json', 'output', 'file=/tmp/tmp0tfn0ytv/prophet_modeltclkipk9/prophet_model-20250620181635.csv', 'method=optimize', 'algorithm=lbfgs', 'iter=10000']\n",
            "18:16:35 - cmdstanpy - INFO - Chain [1] start processing\n",
            "INFO:cmdstanpy:Chain [1] start processing\n",
            "18:16:39 - cmdstanpy - INFO - Chain [1] done processing\n",
            "INFO:cmdstanpy:Chain [1] done processing\n"
          ]
        },
        {
          "output_type": "stream",
          "name": "stdout",
          "text": [
            "Test Accuracy for cell 357783980: 71.44%\n"
          ]
        },
        {
          "output_type": "stream",
          "name": "stderr",
          "text": [
            "INFO:prophet:Disabling yearly seasonality. Run prophet with yearly_seasonality=True to override this.\n"
          ]
        },
        {
          "output_type": "stream",
          "name": "stdout",
          "text": [
            "\n",
            "Forecasting for cell 358531244 | KPI: Avg_UE_Number\n"
          ]
        },
        {
          "output_type": "stream",
          "name": "stderr",
          "text": [
            "DEBUG:cmdstanpy:input tempfile: /tmp/tmp0tfn0ytv/afdwb58e.json\n",
            "DEBUG:cmdstanpy:input tempfile: /tmp/tmp0tfn0ytv/gw7za1vm.json\n",
            "DEBUG:cmdstanpy:idx 0\n",
            "DEBUG:cmdstanpy:running CmdStan, num_threads: None\n",
            "DEBUG:cmdstanpy:CmdStan args: ['/usr/local/lib/python3.11/dist-packages/prophet/stan_model/prophet_model.bin', 'random', 'seed=60402', 'data', 'file=/tmp/tmp0tfn0ytv/afdwb58e.json', 'init=/tmp/tmp0tfn0ytv/gw7za1vm.json', 'output', 'file=/tmp/tmp0tfn0ytv/prophet_modele7gen4qw/prophet_model-20250620181646.csv', 'method=optimize', 'algorithm=lbfgs', 'iter=10000']\n",
            "18:16:46 - cmdstanpy - INFO - Chain [1] start processing\n",
            "INFO:cmdstanpy:Chain [1] start processing\n",
            "18:16:51 - cmdstanpy - INFO - Chain [1] done processing\n",
            "INFO:cmdstanpy:Chain [1] done processing\n"
          ]
        },
        {
          "output_type": "stream",
          "name": "stdout",
          "text": [
            "Test Accuracy for cell 358531244: 71.36%\n"
          ]
        },
        {
          "output_type": "stream",
          "name": "stderr",
          "text": [
            "INFO:prophet:Disabling yearly seasonality. Run prophet with yearly_seasonality=True to override this.\n",
            "DEBUG:cmdstanpy:input tempfile: /tmp/tmp0tfn0ytv/b8ynbabd.json\n"
          ]
        },
        {
          "output_type": "stream",
          "name": "stdout",
          "text": [
            "\n",
            "Forecasting for cell 358531245 | KPI: Avg_UE_Number\n"
          ]
        },
        {
          "output_type": "stream",
          "name": "stderr",
          "text": [
            "DEBUG:cmdstanpy:input tempfile: /tmp/tmp0tfn0ytv/6jxpol9g.json\n",
            "DEBUG:cmdstanpy:idx 0\n",
            "DEBUG:cmdstanpy:running CmdStan, num_threads: None\n",
            "DEBUG:cmdstanpy:CmdStan args: ['/usr/local/lib/python3.11/dist-packages/prophet/stan_model/prophet_model.bin', 'random', 'seed=96475', 'data', 'file=/tmp/tmp0tfn0ytv/b8ynbabd.json', 'init=/tmp/tmp0tfn0ytv/6jxpol9g.json', 'output', 'file=/tmp/tmp0tfn0ytv/prophet_modelsgtokh4r/prophet_model-20250620181658.csv', 'method=optimize', 'algorithm=lbfgs', 'iter=10000']\n",
            "18:16:58 - cmdstanpy - INFO - Chain [1] start processing\n",
            "INFO:cmdstanpy:Chain [1] start processing\n",
            "18:17:02 - cmdstanpy - INFO - Chain [1] done processing\n",
            "INFO:cmdstanpy:Chain [1] done processing\n"
          ]
        },
        {
          "output_type": "stream",
          "name": "stdout",
          "text": [
            "Test Accuracy for cell 358531245: 70.41%\n"
          ]
        },
        {
          "output_type": "stream",
          "name": "stderr",
          "text": [
            "INFO:prophet:Disabling yearly seasonality. Run prophet with yearly_seasonality=True to override this.\n",
            "DEBUG:cmdstanpy:input tempfile: /tmp/tmp0tfn0ytv/ktgtikhx.json\n"
          ]
        },
        {
          "output_type": "stream",
          "name": "stdout",
          "text": [
            "\n",
            "Forecasting for cell 358531243 | KPI: Avg_UE_Number\n"
          ]
        },
        {
          "output_type": "stream",
          "name": "stderr",
          "text": [
            "DEBUG:cmdstanpy:input tempfile: /tmp/tmp0tfn0ytv/e7gb3fe4.json\n",
            "DEBUG:cmdstanpy:idx 0\n",
            "DEBUG:cmdstanpy:running CmdStan, num_threads: None\n",
            "DEBUG:cmdstanpy:CmdStan args: ['/usr/local/lib/python3.11/dist-packages/prophet/stan_model/prophet_model.bin', 'random', 'seed=28116', 'data', 'file=/tmp/tmp0tfn0ytv/ktgtikhx.json', 'init=/tmp/tmp0tfn0ytv/e7gb3fe4.json', 'output', 'file=/tmp/tmp0tfn0ytv/prophet_modelc20n_yp5/prophet_model-20250620181710.csv', 'method=optimize', 'algorithm=lbfgs', 'iter=10000']\n",
            "18:17:10 - cmdstanpy - INFO - Chain [1] start processing\n",
            "INFO:cmdstanpy:Chain [1] start processing\n",
            "18:17:14 - cmdstanpy - INFO - Chain [1] done processing\n",
            "INFO:cmdstanpy:Chain [1] done processing\n"
          ]
        },
        {
          "output_type": "stream",
          "name": "stdout",
          "text": [
            "Test Accuracy for cell 358531243: 70.88%\n",
            "\n",
            "Forecasts saved to: /content/drive/MyDrive/forecast_Avg_UE_Number_Prophet.csv\n",
            "Accuracy report saved to: /content/drive/MyDrive/forecast_Avg_UE_Number_Prophet_accuracy.csv\n"
          ]
        }
      ]
    }
  ]
}